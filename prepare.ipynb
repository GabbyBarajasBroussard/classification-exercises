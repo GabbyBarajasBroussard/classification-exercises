{
 "cells": [
  {
   "cell_type": "code",
   "execution_count": 1,
   "metadata": {},
   "outputs": [],
   "source": [
    "import pandas as pd\n",
    "import numpy as np\n",
    "import matplotlib.pyplot as plt\n",
    "%matplotlib inline\n",
    "\n",
    "from sklearn.model_selection import train_test_split\n",
    "from sklearn.impute import SimpleImputer\n",
    "\n",
    "import warnings\n",
    "warnings.filterwarnings(\"ignore\")\n",
    "\n",
    "import acquire"
   ]
  },
  {
   "cell_type": "code",
   "execution_count": 2,
   "metadata": {},
   "outputs": [],
   "source": [
    "def prep_iris(iris):\n",
    "    iris= iris.drop(columns=['species_id', 'measurement_id'])\n",
    "    iris= iris.rename(columns={\"species_name\": \"species\"})\n",
    "    dummy_df = pd.get_dummies(iris[['species']])\n",
    "    iris = pd.concat([iris, dummy_df], axis=1)\n",
    "    return iris"
   ]
  },
  {
   "cell_type": "code",
   "execution_count": 3,
   "metadata": {},
   "outputs": [
    {
     "name": "stdout",
     "output_type": "stream",
     "text": [
      "Enumerating objects: 4, done.\n",
      "Counting objects: 100% (4/4), done.\n",
      "Delta compression using up to 4 threads\n",
      "Compressing objects: 100% (3/3), done.\n",
      "Writing objects: 100% (3/3), 821 bytes | 821.00 KiB/s, done.\n",
      "Total 3 (delta 1), reused 0 (delta 0)\n",
      "remote: Resolving deltas: 100% (1/1), completed with 1 local object.\u001b[K\n",
      "To github.com:GabbyBarajasBroussard/classification-exercises.git\n",
      "   0e34bd9..78bc549  main -> main\n"
     ]
    }
   ],
   "source": [
    "def prep_titanic(df):\n",
    "    # drop missing observations of embark town\n",
    "    df = df[~df.embark_town.isnull()]\n",
    "    # use the pd.get_dummies to encode embark_town column\n",
    "    df_dummies = pd.get_dummies(df[['sex', 'embark_town']], drop_first=True)\n",
    "    df = pd.concat([df, df_dummies], axis=1)\n",
    "    # Drop the embarked and deck columns\n",
    "    df = df.drop(columns=['embarked', 'deck', 'passenger_id', 'class', 'sex', 'embark_town'])\n",
    "    return df"
   ]
  },
  {
   "cell_type": "code",
   "execution_count": 4,
   "metadata": {},
   "outputs": [
    {
     "name": "stdout",
     "output_type": "stream",
     "text": [
      "To github.com:GabbyBarajasBroussard/classification-exercises.git\r\n",
      " \u001b[31m! [rejected]       \u001b[m main -> main (fetch first)\r\n",
      "\u001b[31merror: failed to push some refs to 'git@github.com:GabbyBarajasBroussard/classification-exercises.git'\r\n",
      "\u001b[m\u001b[33mhint: Updates were rejected because the remote contains work that you do\u001b[m\r\n",
      "\u001b[33mhint: not have locally. This is usually caused by another repository pushing\u001b[m\r\n",
      "\u001b[33mhint: to the same ref. You may want to first integrate the remote changes\u001b[m\r\n",
      "\u001b[33mhint: (e.g., 'git pull ...') before pushing again.\u001b[m\r\n",
      "\u001b[33mhint: See the 'Note about fast-forwards' in 'git push --help' for details.\u001b[m\r\n"
     ]
    }
   ],
   "source": [
    "!git push"
   ]
  },
  {
   "cell_type": "code",
   "execution_count": null,
   "metadata": {},
   "outputs": [],
   "source": []
  }
 ],
 "metadata": {
  "kernelspec": {
   "display_name": "Python 3",
   "language": "python",
   "name": "python3"
  },
  "language_info": {
   "codemirror_mode": {
    "name": "ipython",
    "version": 3
   },
   "file_extension": ".py",
   "mimetype": "text/x-python",
   "name": "python",
   "nbconvert_exporter": "python",
   "pygments_lexer": "ipython3",
   "version": "3.7.6"
  }
 },
 "nbformat": 4,
 "nbformat_minor": 4
}
